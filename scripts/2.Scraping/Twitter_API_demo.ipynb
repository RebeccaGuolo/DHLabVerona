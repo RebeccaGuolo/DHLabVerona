{
  "nbformat": 4,
  "nbformat_minor": 0,
  "metadata": {
    "colab": {
      "name": "Twitter_API_demo.ipynb",
      "provenance": [],
      "collapsed_sections": []
    },
    "kernelspec": {
      "name": "python3",
      "display_name": "Python 3"
    },
    "language_info": {
      "name": "python"
    }
  },
  "cells": [
    {
      "cell_type": "markdown",
      "source": [
        "## 0. Preparation\n",
        "\n",
        "You have to move the API keys (in a .csv file) into the working folder (use the panel on the left) "
      ],
      "metadata": {
        "id": "chEt2JOIePz0"
      }
    },
    {
      "cell_type": "markdown",
      "source": [
        "## 1. TwitterAPI package"
      ],
      "metadata": {
        "id": "fFbkpE-5grPF"
      }
    },
    {
      "cell_type": "code",
      "source": [
        "!pip install TwitterAPI"
      ],
      "metadata": {
        "id": "i1-vZSmvDUbc",
        "outputId": "e76ad552-8b4b-41da-b448-d263d147872e",
        "colab": {
          "base_uri": "https://localhost:8080/"
        }
      },
      "execution_count": 1,
      "outputs": [
        {
          "output_type": "stream",
          "name": "stdout",
          "text": [
            "Collecting TwitterAPI\n",
            "  Downloading TwitterAPI-2.7.12.tar.gz (12 kB)\n",
            "Requirement already satisfied: requests in /usr/local/lib/python3.7/dist-packages (from TwitterAPI) (2.23.0)\n",
            "Requirement already satisfied: requests_oauthlib in /usr/local/lib/python3.7/dist-packages (from TwitterAPI) (1.3.1)\n",
            "Requirement already satisfied: idna<3,>=2.5 in /usr/local/lib/python3.7/dist-packages (from requests->TwitterAPI) (2.10)\n",
            "Requirement already satisfied: certifi>=2017.4.17 in /usr/local/lib/python3.7/dist-packages (from requests->TwitterAPI) (2021.10.8)\n",
            "Requirement already satisfied: chardet<4,>=3.0.2 in /usr/local/lib/python3.7/dist-packages (from requests->TwitterAPI) (3.0.4)\n",
            "Requirement already satisfied: urllib3!=1.25.0,!=1.25.1,<1.26,>=1.21.1 in /usr/local/lib/python3.7/dist-packages (from requests->TwitterAPI) (1.24.3)\n",
            "Requirement already satisfied: oauthlib>=3.0.0 in /usr/local/lib/python3.7/dist-packages (from requests_oauthlib->TwitterAPI) (3.2.0)\n",
            "Building wheels for collected packages: TwitterAPI\n",
            "  Building wheel for TwitterAPI (setup.py) ... \u001b[?25l\u001b[?25hdone\n",
            "  Created wheel for TwitterAPI: filename=TwitterAPI-2.7.12-py3-none-any.whl size=14193 sha256=c6d3c6e8c760cf88dd75828f61e8d1c708fa840b8574da1243215f84efe8a213\n",
            "  Stored in directory: /root/.cache/pip/wheels/5b/a8/49/e1d7a4bab4c027aae108c209be8788349ccbc5ac51f53b6061\n",
            "Successfully built TwitterAPI\n",
            "Installing collected packages: TwitterAPI\n",
            "Successfully installed TwitterAPI-2.7.12\n"
          ]
        }
      ]
    },
    {
      "cell_type": "code",
      "source": [
        "from TwitterAPI import TwitterAPI\n",
        "import pandas as pd"
      ],
      "metadata": {
        "id": "3pDzUzvpDFgJ"
      },
      "execution_count": 2,
      "outputs": []
    },
    {
      "cell_type": "code",
      "execution_count": 3,
      "metadata": {
        "id": "mlaQIUX8DCk0"
      },
      "outputs": [],
      "source": [
        "my_keys = pd.read_csv('keys.csv')\n",
        "\n",
        "consumer_key = my_keys.iloc[0][1]\n",
        "consumer_secret = my_keys.iloc[1][1]"
      ]
    },
    {
      "cell_type": "code",
      "source": [
        "api = TwitterAPI(consumer_key,\n",
        "                 consumer_secret,\n",
        "                 api_version='2', \n",
        "                 auth_type='oAuth2')"
      ],
      "metadata": {
        "id": "eqUhd6wbfDvZ"
      },
      "execution_count": 4,
      "outputs": []
    },
    {
      "cell_type": "code",
      "source": [
        "r = api.request('tweets/search/recent', {\n",
        "        'query':'Dickens',\n",
        "        'tweet.fields':'author_id',\n",
        "        'tweet.fields':'created_at',\n",
        "        'expansions':'author_id',\n",
        "        'max_results':100})\n",
        "for item in r:\n",
        "        print(item)"
      ],
      "metadata": {
        "id": "4QoAHKeVDtXg",
        "outputId": "3f7ce827-23ca-40cd-cb78-f9e50b8846d4",
        "colab": {
          "base_uri": "https://localhost:8080/"
        }
      },
      "execution_count": 7,
      "outputs": [
        {
          "output_type": "stream",
          "name": "stdout",
          "text": [
            "{'created_at': '2022-03-04T11:22:49.000Z', 'id': '1499706926564790280', 'text': 'RT @DickensMuseum: Today is #WorldBookDay, our #favourite day of the year! Which #Dickens #novel is your favourite? https://t.co/VktuzXaN3g', 'author_id': '493040868'}\n",
            "{'created_at': '2022-03-04T11:22:40.000Z', 'id': '1499706890183393282', 'text': 'Life is made of ever so many partings welded together. -Charles Dickens', 'author_id': '1498059877855412225'}\n",
            "{'created_at': '2022-03-04T11:21:11.000Z', 'id': '1499706517339226112', 'text': '@laurarose13521 Love this book. I hated reading as a kid, but at 15 I discovered fantasy. Became avid reader. This book and Three Musketeers I read for the first time at 17, my first crossover. After, I started reading Dickens, etc... Meaningful. Thanks for sharing.', 'author_id': '25309761'}\n",
            "{'created_at': '2022-03-04T11:20:52.000Z', 'id': '1499706438402379779', 'text': 'RT @ajay43: “I am Mr Mc Adams and I haven’t said a word” can be a meme, a rap song and the first line of a Charles Dickens novel.\\nThank you…', 'author_id': '1469150720'}\n",
            "{'created_at': '2022-03-04T11:20:00.000Z', 'id': '1499706217433862145', 'text': '➡️ Charles Dickens y el racismo en Estados Unidos https://t.co/eNRm2SzAXW', 'author_id': '1694709636'}\n",
            "{'created_at': '2022-03-04T11:19:55.000Z', 'id': '1499706196583796737', 'text': 'before manfred von karma could ask \"what in the dickens,\" there was a flash of light as the lights flashed on and a scream of \"JAAAAAA BABYYYYYYYYY\".', 'author_id': '1374245827598721026'}\n",
            "{'created_at': '2022-03-04T11:19:31.000Z', 'id': '1499706098764648453', 'text': 'A man is lucky if he is the first love of a woman. A woman is lucky if she is the last love of a man.- Charles Dickens https://t.co/Gg9gZIptBa', 'author_id': '1499705243055321088'}\n",
            "{'created_at': '2022-03-04T11:18:15.000Z', 'id': '1499705778290188289', 'text': '7 de Marzo comienzo de clases . Cursos de inglés para niños, jóvenes y adultos (respaldo Dickens). https://t.co/YIQDfmmNNq', 'author_id': '1091462073983401986'}\n",
            "{'created_at': '2022-03-04T11:17:48.000Z', 'id': '1499705666402848768', 'text': \"@ShastaJamie Gonzo is Charles Dickens. Are you saying Dickens isn't British?\", 'author_id': '18924366'}\n",
            "{'created_at': '2022-03-04T11:16:58.000Z', 'id': '1499705455362609156', 'text': 'RT @ajay43: “I am Mr Mc Adams and I haven’t said a word” can be a meme, a rap song and the first line of a Charles Dickens novel.\\nThank you…', 'author_id': '15876659'}\n",
            "{'created_at': '2022-03-04T11:16:36.000Z', 'id': '1499705364316663809', 'text': 'RT @SeffSaid: \"Have a heart that never hardens, and a temper that never tires, and a touch that never hurts.\" - Charles Dickens', 'author_id': '1490261225871138816'}\n",
            "{'created_at': '2022-03-04T11:16:33.000Z', 'id': '1499705350781816835', 'text': 'RT @SeffSaid: \"Have a heart that never hardens, and a temper that never tires, and a touch that never hurts.\" - Charles Dickens', 'author_id': '1476978895266070530'}\n",
            "{'created_at': '2022-03-04T11:14:44.000Z', 'id': '1499704895334944770', 'text': '“I loved her against reason, against promise, against peace, against hope, against happiness, against all discouragement that could be.” —Charles Dickens', 'author_id': '1421158444866838528'}\n",
            "{'created_at': '2022-03-04T11:14:42.000Z', 'id': '1499704885964685313', 'text': 'RT @SarahDwriter: Heartily recommend the Charles Dickens museum (48 Doughty Street, London). Dickens lived here 1837-1839 and in this study…', 'author_id': '2222826720'}\n",
            "{'created_at': '2022-03-04T11:12:17.000Z', 'id': '1499704278398742530', 'text': 'RT @FeathamSchools: We cordially thank @qlsnetwork, @ExpressElt, #Burlingtonbooks and @mmpublications for the wonderful prizes our students…', 'author_id': '3655301788'}\n",
            "{'created_at': '2022-03-04T11:10:08.000Z', 'id': '1499703734464827392', 'text': 'nothing more pleasing to me than hercule poirot loudly chuckling while reading dickens', 'author_id': '1039964882483990530'}\n",
            "{'created_at': '2022-03-04T11:09:47.000Z', 'id': '1499703647516643331', 'text': 'RT @larosaviva: Le grandi speranze 🌹\\nC. Dickens\\n#ArmonieDellEsistenza \\n#CasaLettori https://t.co/1X8lRO3LGR', 'author_id': '897152747262312450'}\n",
            "{'created_at': '2022-03-04T11:09:01.000Z', 'id': '1499703453966159879', 'text': \"RT @rainnycomms: “No one is useless in this world who lightens the burdens of another.” ― Charles Dickens\\n\\n🌧HI! I'm Rainny! I would be deli…\", 'author_id': '1260222572035289088'}\n",
            "{'created_at': '2022-03-04T11:08:48.000Z', 'id': '1499703398790094849', 'text': \"RT @rainnycomms: “No one is useless in this world who lightens the burdens of another.” ― Charles Dickens\\n\\n🌧HI! I'm Rainny! I would be deli…\", 'author_id': '1459712323405312004'}\n",
            "{'created_at': '2022-03-04T11:08:20.000Z', 'id': '1499703282679246855', 'text': \"RT @rainnycomms: “No one is useless in this world who lightens the burdens of another.” ― Charles Dickens\\n\\n🌧HI! I'm Rainny! I would be deli…\", 'author_id': '1410132040918343685'}\n",
            "{'created_at': '2022-03-04T11:07:06.000Z', 'id': '1499702971084550148', 'text': '🛡️ El racismo en Estados Unidos según Charles Dickens https://t.co/bfgAGmBHdC', 'author_id': '1659223908'}\n",
            "{'created_at': '2022-03-04T11:07:05.000Z', 'id': '1499702969125638148', 'text': 'RT @KyledaCinephile: @riddlernight I just don’t think that Paul Dano should be allowed to say bro? He seems like a little British peasant b…', 'author_id': '1498800694865936386'}\n",
            "{'created_at': '2022-03-04T11:04:27.000Z', 'id': '1499702304936759297', 'text': 'Life is made of ever so many partings welded together. -Charles Dickens', 'author_id': '1498067344148549640'}\n",
            "{'created_at': '2022-03-04T11:01:33.000Z', 'id': '1499701574964183040', 'text': 'RT @KyledaCinephile: @riddlernight I just don’t think that Paul Dano should be allowed to say bro? He seems like a little British peasant b…', 'author_id': '828509947704995840'}\n",
            "{'created_at': '2022-03-04T11:00:44.000Z', 'id': '1499701372421242880', 'text': 'RT @ajay43: “I am Mr Mc Adams and I haven’t said a word” can be a meme, a rap song and the first line of a Charles Dickens novel.\\nThank you…', 'author_id': '124379172'}\n",
            "{'created_at': '2022-03-04T11:00:29.000Z', 'id': '1499701306042294277', 'text': 'Incomparable Quotes by Charles Dickens, which you should definitely list... https://t.co/FenRfEI3Ub via @YouTube', 'author_id': '71740878'}\n",
            "{'created_at': '2022-03-04T11:00:13.000Z', 'id': '1499701240602759179', 'text': '@BartlettsDaily by Charles Dickens\\n\\nSource: The Old Curiosity Shop, 66', 'author_id': '1484018648696172546'}\n",
            "{'created_at': '2022-03-04T11:00:08.000Z', 'id': '1499701218171670533', 'text': '\"It was a maxim with Foxey—our revered father, gentlemen—\\'Always suspect everybody.\\'\"\\n\\n- Charles Dickens', 'author_id': '1484018648696172546'}\n",
            "{'created_at': '2022-03-04T11:00:00.000Z', 'id': '1499701187196723202', 'text': 'RT @masqueraderep: Did you know the intro of Getaway Car is built around the opening lines of Charles Dickens’ ‘A Tale of Two Cities?’ The…', 'author_id': '1263635967300296705'}\n",
            "{'created_at': '2022-03-04T10:58:40.000Z', 'id': '1499700848892342279', 'text': 'RT @ajay43: “I am Mr Mc Adams and I haven’t said a word” can be a meme, a rap song and the first line of a Charles Dickens novel.\\nThank you…', 'author_id': '937675496858443777'}\n",
            "{'created_at': '2022-03-04T10:56:26.000Z', 'id': '1499700287535202306', 'text': 'RT @ekremmgzl: Benim en iyi roman giriş cümlem:\\nC. Dickens-İki Şehrin Hikayesi romanı şöyle başlar: \\n“Zamanların en iyisiydi, zamanların en…', 'author_id': '3062923625'}\n",
            "{'created_at': '2022-03-04T10:56:18.000Z', 'id': '1499700254907650050', 'text': 'RT @ajay43: “I am Mr Mc Adams and I haven’t said a word” can be a meme, a rap song and the first line of a Charles Dickens novel.\\nThank you…', 'author_id': '1028656341244698625'}\n",
            "{'created_at': '2022-03-04T10:55:49.000Z', 'id': '1499700131653902339', 'text': \"@Conway_NE @WilliamClouston @Furedibyte Very true.\\nBeing a Charles Dickens enthusiast, I obviously read a lot of 19th Century literature, and, as you say, humans are much the same, it's just the technology around us that differs.\", 'author_id': '526020270'}\n",
            "{'created_at': '2022-03-04T10:55:23.000Z', 'id': '1499700025961680896', 'text': '@pepeblai El veganismo te vuelve más manso y dócil. Ideal para los manipuladores de masas.\\nCharles Dickens ya relataba en Oliver Twist, que en el orfanato no se comía carne, para mantener a los huérfanos más obedientes y dóciles.', 'author_id': '1430670339370012675'}\n",
            "{'created_at': '2022-03-04T10:54:33.000Z', 'id': '1499699813885132801', 'text': 'March definitely feels like a transitional month, whichever way you mark the start of Spring. \\n\\nCharles Dickens described March as feeling ‘like Summer in the sun and Winter in the shade’, and the word ‘winterspring’ perfectly encapsulates this duality.', 'author_id': '1373921730213908481'}\n",
            "{'created_at': '2022-03-04T10:53:59.000Z', 'id': '1499699671501049862', 'text': 'RT @SaraLane112: @Dickens_Theatre @TowngateTheatre @macbeth Really enjoyed Macbeth last night - excellent performances and you made it very…', 'author_id': '398560368'}\n",
            "{'created_at': '2022-03-04T10:53:43.000Z', 'id': '1499699606350929924', 'text': \"DOMINIQUE PINON cumple 67 años\\n\\n“La ciudad de los niños perdidos” (Jean-Pierre Jeunet &amp; Marc Caro, 1995)\\nhttps://t.co/H1h9UVVRtr\\n\\n'...de Fritz Lang a Terry Gilliam, de Dickens a H.C. Andersen); enmarcados en un diseño de producción impecable...'\\n\\n#DominiquePinon #JeanPierreJeunet https://t.co/J6T94ijHfu\", 'author_id': '1368878534807220230'}\n",
            "{'created_at': '2022-03-04T10:53:30.000Z', 'id': '1499699552080646150', 'text': 'RT @ajay43: “I am Mr Mc Adams and I haven’t said a word” can be a meme, a rap song and the first line of a Charles Dickens novel.\\nThank you…', 'author_id': '16433098'}\n",
            "{'created_at': '2022-03-04T10:52:17.000Z', 'id': '1499699243266805760', 'text': 'What’s the technique called in ACC where the ghost uses Scrooge’s words back to him? “Are there no prisons” is it a form of anaphora? And would it be anaphora when in Stave 1&amp;2 Dickens uses “solitary as an oyster, solitary child”', 'author_id': '3327992859'}\n",
            "{'created_at': '2022-03-04T10:52:09.000Z', 'id': '1499699212170280960', 'text': 'RT @steve_serie: A loving heart is the truest wisdom. - Charles Dickens #quote #FridayFeeling https://t.co/uVvNa9kXTP', 'author_id': '2301559261'}\n",
            "{'created_at': '2022-03-04T10:50:12.000Z', 'id': '1499698720027430912', 'text': 'This part of the A111 OU module is tailor made for my interests, actually: Mozart bringing the tunes, Wollstonecraft kicking the patriarchy, Dickens showing some literary chops, and Van Gogh making some colours do some incredible things. Sort me out with the good stuff, tutor!', 'author_id': '52716658'}\n",
            "{'created_at': '2022-03-04T10:49:31.000Z', 'id': '1499698547113050114', 'text': 'Checking Dickens Heaths trash screen  on 04 Mar 2022 10:49 https://t.co/akpvB0ya2s', 'author_id': '967870603750445057'}\n",
            "{'created_at': '2022-03-04T10:49:22.000Z', 'id': '1499698508768886785', 'text': 'RT @ajay43: “I am Mr Mc Adams and I haven’t said a word” can be a meme, a rap song and the first line of a Charles Dickens novel.\\nThank you…', 'author_id': '1411020711989182471'}\n",
            "{'created_at': '2022-03-04T10:47:50.000Z', 'id': '1499698126201839616', 'text': 'RT @ajay43: “I am Mr Mc Adams and I haven’t said a word” can be a meme, a rap song and the first line of a Charles Dickens novel.\\nThank you…', 'author_id': '1267037493125414917'}\n",
            "{'created_at': '2022-03-04T10:45:49.000Z', 'id': '1499697617126707205', 'text': \"It's #BandcampFriday!\\n\\nPlease download my audiobook Bowie Day, a Charles Dickens inspired story about a man called David Bowie who hates music until his famous namesake teaches him to love it!\\n\\nPay what you like, please pay something. It all helps 🙂\\n\\nhttps://t.co/I9OwMAB5Fi\", 'author_id': '764458824'}\n",
            "{'created_at': '2022-03-04T10:45:01.000Z', 'id': '1499697416433512454', 'text': '#Review #Feedback - Lovely item #Excellent #quality!!Quick delivery!!! Many thanks!! 5 stars #ebay #vintage #card #Dickens #Fagin #OliverTwist #Oliverf q https://t.co/mgnuukTc3n', 'author_id': '307391233'}\n",
            "{'created_at': '2022-03-04T10:45:01.000Z', 'id': '1499697415988944900', 'text': '#Review #Feedback - Lovely item #Excellent #quality!!Quick delivery!!! Many thanks!! 5 stars #ebay #vintage #card #Dickens #Fagin #OliverTwist #Oliverf q https://t.co/1tKJh5Tdht', 'author_id': '1060490347'}\n",
            "{'created_at': '2022-03-04T10:45:01.000Z', 'id': '1499697415871422467', 'text': '#Review #Feedback - Lovely item #Excellent #quality!!Quick delivery!!! Many thanks!! 5 stars #ebay #vintage #card #Dickens #Fagin #OliverTwist #Oliverf q https://t.co/WFL1tpjMkR', 'author_id': '1954786172'}\n",
            "{'created_at': '2022-03-04T10:43:09.000Z', 'id': '1499696944272355333', 'text': '@OkangaII @c_ukonne Dickens', 'author_id': '579123228'}\n",
            "{'created_at': '2022-03-04T10:42:00.000Z', 'id': '1499696655175942147', 'text': '@YamunaHarsha Charles Dickens was one of the biggest bastards and racists who ever lived on this planet', 'author_id': '2152550364'}\n",
            "{'created_at': '2022-03-04T10:41:32.000Z', 'id': '1499696537273778179', 'text': '@YoungsPubs A Christmas Carol by Charles Dickens', 'author_id': '883931413791338498'}\n",
            "{'created_at': '2022-03-04T10:40:33.000Z', 'id': '1499696290254446595', 'text': \"studiare dickens in post sbornia con 5 ore di sonno è un'esperienza\", 'author_id': '1201262320573394944'}\n",
            "{'created_at': '2022-03-04T10:38:26.000Z', 'id': '1499695759872061441', 'text': 'RT @ajay43: “I am Mr Mc Adams and I haven’t said a word” can be a meme, a rap song and the first line of a Charles Dickens novel.\\nThank you…', 'author_id': '1247097604732674050'}\n",
            "{'created_at': '2022-03-04T10:37:48.000Z', 'id': '1499695599578324993', 'text': 'RT @ajay43: “I am Mr Mc Adams and I haven’t said a word” can be a meme, a rap song and the first line of a Charles Dickens novel.\\nThank you…', 'author_id': '1141006502028668928'}\n",
            "{'created_at': '2022-03-04T10:37:02.000Z', 'id': '1499695407214981122', 'text': 'RT @ajay43: “I am Mr Mc Adams and I haven’t said a word” can be a meme, a rap song and the first line of a Charles Dickens novel.\\nThank you…', 'author_id': '3123941134'}\n",
            "{'created_at': '2022-03-04T10:35:07.000Z', 'id': '1499694922634461184', 'text': '@pollitt Really, once i saw wine n cheese n meat my mind said charles dickens period dinner style👁👁', 'author_id': '1317059939395805184'}\n",
            "{'created_at': '2022-03-04T10:31:26.000Z', 'id': '1499693997555605506', 'text': 'Life is made of ever so many partings welded together. -Charles Dickens', 'author_id': '1498084351292149762'}\n",
            "{'created_at': '2022-03-04T10:31:14.000Z', 'id': '1499693948004093958', 'text': 'RT @ajay43: “I am Mr Mc Adams and I haven’t said a word” can be a meme, a rap song and the first line of a Charles Dickens novel.\\nThank you…', 'author_id': '3066926251'}\n",
            "{'created_at': '2022-03-04T10:29:17.000Z', 'id': '1499693456456929283', 'text': 'Have a heart that never hardens, and a temper that never tires, and a touch that never hurts. \\n― Charles Dickens #quote', 'author_id': '29902089'}\n",
            "{'created_at': '2022-03-04T10:28:58.000Z', 'id': '1499693374311305217', 'text': \"So good I had to share! Check out all the items I'm loving on @Poshmarkapp #poshmark #fashion #style #shopmycloset #dickens #madewell: https://t.co/Dy5ae9cFMc https://t.co/sctIfLuUP2\", 'author_id': '4621935047'}\n",
            "{'created_at': '2022-03-04T10:28:33.000Z', 'id': '1499693269311180800', 'text': 'Benim en iyi roman giriş cümlem:\\nC. Dickens-İki Şehrin Hikayesi romanı şöyle başlar: \\n“Zamanların en iyisiydi, zamanların en kötüsüydü, hem akıl çağıydı, hem aptallık…\\n\\nYa sizinki hangisi?\\nhttps://t.co/vPxa0iM6ZJ https://t.co/5bkYO6x7Ei', 'author_id': '708475672952479748'}\n",
            "{'created_at': '2022-03-04T10:27:49.000Z', 'id': '1499693088780034052', 'text': 'Life is made of ever so many partings welded together. -Charles Dickens', 'author_id': '1498085976962437120'}\n",
            "{'created_at': '2022-03-04T10:27:11.000Z', 'id': '1499692926779146241', 'text': \"RT @Siir_Sokaktadir: Mutluluğun bir hediye olduğu doğru ama asıl 'olay' hediyeyi aramak ve beklemek değil, karşılaştığınızda ona hak ettiği…\", 'author_id': '1367100729341726726'}\n",
            "{'created_at': '2022-03-04T10:26:14.000Z', 'id': '1499692686684692484', 'text': 'A loving heart is the truest wisdom. - Charles Dickens #quote #FridayFeeling https://t.co/uVvNa9kXTP', 'author_id': '705481270134845440'}\n",
            "{'created_at': '2022-03-04T10:26:06.000Z', 'id': '1499692653344137219', 'text': '@MichelleU_Wood Ha! It is like cod Dickens farce. A character killed each time ratings flagged. Shell gave up on it after 3 series. I’d forgotten how dire the writing is. Though some of the acting rises above it.', 'author_id': '1212655693024526336'}\n",
            "{'created_at': '2022-03-04T10:25:01.000Z', 'id': '1499692383193161729', 'text': '#Review #Feedback - Lovely item #Excellent #quality!!Quick delivery!!! Many thanks!! 5 stars #ebay #vintage #card #Dickens #Fagin #OliverTwist #Oliverf f https://t.co/7TTfzrtHrP', 'author_id': '1060490347'}\n",
            "{'created_at': '2022-03-04T10:25:01.000Z', 'id': '1499692383117754374', 'text': '#Review #Feedback - Lovely item #Excellent #quality!!Quick delivery!!! Many thanks!! 5 stars #ebay #vintage #card #Dickens #Fagin #OliverTwist #Oliverf f https://t.co/PRw66AFSrN', 'author_id': '1954786172'}\n",
            "{'created_at': '2022-03-04T10:25:01.000Z', 'id': '1499692382815764481', 'text': '#Review #Feedback - Lovely item #Excellent #quality!!Quick delivery!!! Many thanks!! 5 stars #ebay #vintage #card #Dickens #Fagin #OliverTwist #Oliverf f https://t.co/IoT8IyRVQE', 'author_id': '307391233'}\n",
            "{'created_at': '2022-03-04T10:21:03.000Z', 'id': '1499691382390550535', 'text': 'RT @ajay43: “I am Mr Mc Adams and I haven’t said a word” can be a meme, a rap song and the first line of a Charles Dickens novel.\\nThank you…', 'author_id': '1402142978'}\n",
            "{'created_at': '2022-03-04T10:20:08.000Z', 'id': '1499691155209998337', 'text': 'RT @OzuneDonen: Eğer Hz.Hüseyin, dünyevi çıkar amaçlı savaşmak isteseydi, öyle ise neden kız kardeşlerini, eşlerini ve çocuklarını savaşa g…', 'author_id': '786255335132585984'}\n",
            "{'created_at': '2022-03-04T10:18:43.000Z', 'id': '1499690794856464387', 'text': 'RT @DrLucyWhitehead: Charles Dickens. Genius novelist. Merely indifferent drawer of pointy fingers. @NYPL_Archives https://t.co/Tcha1v6eoR', 'author_id': '1469573318'}\n",
            "{'created_at': '2022-03-04T10:16:50.000Z', 'id': '1499690323299434508', 'text': '@literarybase Oliver Twist by Charles Dickens.', 'author_id': '867323130'}\n",
            "{'created_at': '2022-03-04T10:16:43.000Z', 'id': '1499690291636277250', 'text': 'Impossible, Mr. Darcy could form one.\\n\\n- Pride, Prejudice and A Ghost Story\\n\\n#JaneAusten #Dickens #Christmas', 'author_id': '2910951677'}\n",
            "{'created_at': '2022-03-04T10:16:14.000Z', 'id': '1499690172480311296', 'text': 'Dickens end Invest money\\nhttps://t.co/2hosqDxBjO\\nï»¿https://t.co/YivmF6MnPm', 'author_id': '2647096278'}\n",
            "{'created_at': '2022-03-04T10:15:00.000Z', 'id': '1499689860247928833', 'text': \"From Dickens to Orwell and Austin to Proust - here's just some of the classics we have here on our shelves @YorkExplore 📚🤩\\n\\n#ClassicLiterature #LoveLibraries https://t.co/F6P14dRRP2\", 'author_id': '1425922399'}\n",
            "{'created_at': '2022-03-04T10:13:51.000Z', 'id': '1499689571445096454', 'text': 'I know we’re not supposed to remark on how people look, but it’s too hard when their truly vile characters are depicted so clearly on their nasty heads. He’s like a Dickens’ baddie. https://t.co/1KmQ3d2gfT', 'author_id': '54957474'}\n",
            "{'created_at': '2022-03-04T10:13:24.000Z', 'id': '1499689457125294080', 'text': 'ディケンズの夜な夜なの散歩についてはペンギン社から”Night Walks”という彼のエッセイのアンソロジーが出ている。これは邦訳がなさそうだが、その元となった”The Uncommercial Traveller”は『逍遥の旅人』（溪水社）及び『無商旅人』（篠崎書林）として出版されている。\\n\\nhttps://t.co/HOGAHAVV5i', 'author_id': '1050601673301737476'}\n",
            "{'created_at': '2022-03-04T10:12:48.000Z', 'id': '1499689306385965056', 'text': 'Bienvenido, Charles Dickens.✨', 'author_id': '2324028162'}\n",
            "{'created_at': '2022-03-04T10:12:28.000Z', 'id': '1499689223028641793', 'text': 'Charles Dickens in one of his books calls an Indian \"babu\" as a baboon that was treated as a joke by a classic English writer. https://t.co/zFkSf1BD82', 'author_id': '110612755'}\n",
            "{'created_at': '2022-03-04T10:12:25.000Z', 'id': '1499689210864979972', 'text': 'RT @DrLucyWhitehead: Charles Dickens. Genius novelist. Merely indifferent drawer of pointy fingers. @NYPL_Archives https://t.co/Tcha1v6eoR', 'author_id': '522207347'}\n",
            "{'created_at': '2022-03-04T10:10:58.000Z', 'id': '1499688846946193409', 'text': 'RT @DickensMuseum: #DYK You have less than two weeks to visit our #OliverTwist exhibition before comes to an end! Book your tickets quick!…', 'author_id': '2272157010'}\n",
            "{'created_at': '2022-03-04T10:10:32.000Z', 'id': '1499688738108194820', 'text': '@omwambaKE @ochi_dickens', 'author_id': '3553299497'}\n",
            "{'created_at': '2022-03-04T10:10:23.000Z', 'id': '1499688699243769857', 'text': 'RT @KyledaCinephile: @riddlernight I just don’t think that Paul Dano should be allowed to say bro? He seems like a little British peasant b…', 'author_id': '2317494380'}\n",
            "{'created_at': '2022-03-04T10:09:32.000Z', 'id': '1499688484189392900', 'text': 'RT @ajay43: “I am Mr Mc Adams and I haven’t said a word” can be a meme, a rap song and the first line of a Charles Dickens novel.\\nThank you…', 'author_id': '340128155'}\n",
            "{'created_at': '2022-03-04T10:09:11.000Z', 'id': '1499688395609722882', 'text': 'Top Hits music. Now Hillbilly Fever - Little Jimmy Dickens on https://t.co/glymXWQcOq', 'author_id': '886908369734447104'}\n",
            "{'created_at': '2022-03-04T10:07:32.000Z', 'id': '1499687980360863748', 'text': 'RT @ajay43: “I am Mr Mc Adams and I haven’t said a word” can be a meme, a rap song and the first line of a Charles Dickens novel.\\nThank you…', 'author_id': '386395762'}\n",
            "{'created_at': '2022-03-04T10:05:21.000Z', 'id': '1499687432144441344', 'text': '📚 Los papeles póstumos del Club Pickwick, de Charles Dickens.\\n\\nUn señor tochal con partes muy divertidas. Me sorprende que no haya tenido adaptación todavía, ya que aquí veo cimientos de lo que después serán las sitcoms.\\n\\nReview: https://t.co/wAu5T2IdiX https://t.co/MPBGzUagwU', 'author_id': '1092376663'}\n",
            "{'created_at': '2022-03-04T10:02:26.000Z', 'id': '1499686697776607233', 'text': 'RT @yourLuna1726: The most important thing is this: to be ready at any moment to sacrifice what you are for what you could become. –Charles…', 'author_id': '1077146845653188608'}\n",
            "{'created_at': '2022-03-04T10:01:42.000Z', 'id': '1499686512748863491', 'text': '➡️ El racismo en Estados Unidos según Charles Dickens https://t.co/Y06W0RyQiH', 'author_id': '4267368155'}\n",
            "{'created_at': '2022-03-04T09:58:13.000Z', 'id': '1499685637141717000', 'text': 'The Best songs rock pop dance latino np Hillbilly Fever - Little Jimmy Dickens on https://t.co/0yB5SKQYKk', 'author_id': '886912488129933314'}\n",
            "{'created_at': '2022-03-04T09:58:12.000Z', 'id': '1499685633937354752', 'text': 'RT @elmundoes: Nuestra frase del día\\n\\n✍  Charles Dickens https://t.co/ail58zRwDf', 'author_id': '1271805768854052864'}\n",
            "{'created_at': '2022-03-04T09:57:56.000Z', 'id': '1499685565242896387', 'text': 'The most important thing is this: to be ready at any moment to sacrifice what you are for what you could become. –Charles Dickens\\n\\nALEXA BIG ANNOUNCEMENT', 'author_id': '1427801324821782528'}\n",
            "{'created_at': '2022-03-04T09:56:58.000Z', 'id': '1499685324527587328', 'text': 'RT @yourLuna1726: The most important thing in life is to stop saying ‘I wish’ and start saying ‘I will’. Consider nothing impossible then t…', 'author_id': '1415566797743345667'}\n",
            "{'created_at': '2022-03-04T09:56:45.000Z', 'id': '1499685267044712448', 'text': 'The X-Rated Ruble by Brian Dickens Barrabee #Illumination #WritingCommunity #Medium https://t.co/CyJb8pDr7l', 'author_id': '1253197655187980289'}\n",
            "{'created_at': '2022-03-04T09:56:41.000Z', 'id': '1499685252234551296', 'text': 'Red Flag Watch for Parmer, Castro, Swisher, Briscoe, Hall, Childress, Bailey, Lamb, Hale, Floyd, Motley, Cottle, Cochran, Hockley, Lubbock, Crosby, Dickens, King, Yoakum, Terry, Lynn, Garza, Kent and Stonewall County until 7:00pm Saturday.', 'author_id': '576891706'}\n",
            "{'created_at': '2022-03-04T09:54:31.000Z', 'id': '1499684708007182338', 'text': 'RT @yourLuna1726: The most important thing in life is to stop saying ‘I wish’ and start saying ‘I will’. Consider nothing impossible then t…', 'author_id': '1456530361412771842'}\n",
            "{'created_at': '2022-03-04T09:54:00.000Z', 'id': '1499684577186664449', 'text': '@Dickens_IT Bali bazibu', 'author_id': '1411674047520423937'}\n",
            "{'created_at': '2022-03-04T09:53:34.000Z', 'id': '1499684465597108229', 'text': 'Tucsok szol a tuzhelyen - Az otthon tundermeseje PDF EPUB Full Pages FREE Charles Dickens\\n\\nLetöltés  : https://t.co/cdGVX7DDjy \\nISBN 809000084054 https://t.co/A9YjVCyDs0', 'author_id': '1493478598119993344'}\n",
            "{'created_at': '2022-03-04T09:52:24.000Z', 'id': '1499684174529060864', 'text': 'The most important thing in life is to stop saying ‘I wish’ and start saying ‘I will’. Consider nothing impossible then treat possibilities as probabilities. -Charles Dickens\\n\\nALEXA BIG ANNOUNCEMENT', 'author_id': '1427801324821782528'}\n",
            "{'created_at': '2022-03-04T09:52:09.000Z', 'id': '1499684111774015489', 'text': 'RT @KyledaCinephile: @riddlernight I just don’t think that Paul Dano should be allowed to say bro? He seems like a little British peasant b…', 'author_id': '713436397'}\n"
          ]
        }
      ]
    },
    {
      "cell_type": "markdown",
      "source": [
        "More details on the query arguments: https://developer.twitter.com/en/docs/twitter-api/tweets/search/api-reference/get-tweets-search-recent"
      ],
      "metadata": {
        "id": "VuXuHCqpgVxd"
      }
    },
    {
      "cell_type": "markdown",
      "source": [
        "## 2. TWARC"
      ],
      "metadata": {
        "id": "g_KEJrNtguSj"
      }
    },
    {
      "cell_type": "code",
      "source": [
        "!pip install twarc\n",
        "!pip3 install --upgrade twarc-csv"
      ],
      "metadata": {
        "id": "LgFZiH0Ag1S9",
        "outputId": "59bfbd1d-1f4d-4f02-a9c2-734deab8361e",
        "colab": {
          "base_uri": "https://localhost:8080/"
        }
      },
      "execution_count": 8,
      "outputs": [
        {
          "output_type": "stream",
          "name": "stdout",
          "text": [
            "Collecting twarc\n",
            "  Downloading twarc-2.9.4-py3-none-any.whl (55 kB)\n",
            "\u001b[?25l\r\u001b[K     |█████▉                          | 10 kB 19.4 MB/s eta 0:00:01\r\u001b[K     |███████████▊                    | 20 kB 26.2 MB/s eta 0:00:01\r\u001b[K     |█████████████████▋              | 30 kB 31.8 MB/s eta 0:00:01\r\u001b[K     |███████████████████████▌        | 40 kB 26.3 MB/s eta 0:00:01\r\u001b[K     |█████████████████████████████▍  | 51 kB 28.7 MB/s eta 0:00:01\r\u001b[K     |████████████████████████████████| 55 kB 3.7 MB/s \n",
            "\u001b[?25hRequirement already satisfied: requests-oauthlib>=1.3 in /usr/local/lib/python3.7/dist-packages (from twarc) (1.3.1)\n",
            "Requirement already satisfied: tqdm>=4.62 in /usr/local/lib/python3.7/dist-packages (from twarc) (4.63.0)\n",
            "Collecting humanize>=3.9\n",
            "  Downloading humanize-4.0.0-py3-none-any.whl (97 kB)\n",
            "\u001b[?25l\r\u001b[K     |███▍                            | 10 kB 26.5 MB/s eta 0:00:01\r\u001b[K     |██████▊                         | 20 kB 34.8 MB/s eta 0:00:01\r\u001b[K     |██████████                      | 30 kB 42.6 MB/s eta 0:00:01\r\u001b[K     |█████████████▍                  | 40 kB 45.4 MB/s eta 0:00:01\r\u001b[K     |████████████████▊               | 51 kB 47.1 MB/s eta 0:00:01\r\u001b[K     |████████████████████▏           | 61 kB 50.7 MB/s eta 0:00:01\r\u001b[K     |███████████████████████▌        | 71 kB 40.9 MB/s eta 0:00:01\r\u001b[K     |██████████████████████████▉     | 81 kB 41.3 MB/s eta 0:00:01\r\u001b[K     |██████████████████████████████▏ | 92 kB 43.2 MB/s eta 0:00:01\r\u001b[K     |████████████████████████████████| 97 kB 6.4 MB/s \n",
            "\u001b[?25hCollecting click-plugins>=1\n",
            "  Downloading click_plugins-1.1.1-py2.py3-none-any.whl (7.5 kB)\n",
            "Collecting click-config-file>=0.6\n",
            "  Downloading click_config_file-0.6.0-py2.py3-none-any.whl (6.0 kB)\n",
            "Requirement already satisfied: click<9,>=7 in /usr/local/lib/python3.7/dist-packages (from twarc) (7.1.2)\n",
            "Requirement already satisfied: python-dateutil>=2.8 in /usr/local/lib/python3.7/dist-packages (from twarc) (2.8.2)\n",
            "Collecting configobj>=5.0.6\n",
            "  Downloading configobj-5.0.6.tar.gz (33 kB)\n",
            "Requirement already satisfied: six in /usr/local/lib/python3.7/dist-packages (from configobj>=5.0.6->click-config-file>=0.6->twarc) (1.15.0)\n",
            "Requirement already satisfied: importlib-metadata in /usr/local/lib/python3.7/dist-packages (from humanize>=3.9->twarc) (4.11.2)\n",
            "Requirement already satisfied: requests>=2.0.0 in /usr/local/lib/python3.7/dist-packages (from requests-oauthlib>=1.3->twarc) (2.23.0)\n",
            "Requirement already satisfied: oauthlib>=3.0.0 in /usr/local/lib/python3.7/dist-packages (from requests-oauthlib>=1.3->twarc) (3.2.0)\n",
            "Requirement already satisfied: certifi>=2017.4.17 in /usr/local/lib/python3.7/dist-packages (from requests>=2.0.0->requests-oauthlib>=1.3->twarc) (2021.10.8)\n",
            "Requirement already satisfied: chardet<4,>=3.0.2 in /usr/local/lib/python3.7/dist-packages (from requests>=2.0.0->requests-oauthlib>=1.3->twarc) (3.0.4)\n",
            "Requirement already satisfied: idna<3,>=2.5 in /usr/local/lib/python3.7/dist-packages (from requests>=2.0.0->requests-oauthlib>=1.3->twarc) (2.10)\n",
            "Requirement already satisfied: urllib3!=1.25.0,!=1.25.1,<1.26,>=1.21.1 in /usr/local/lib/python3.7/dist-packages (from requests>=2.0.0->requests-oauthlib>=1.3->twarc) (1.24.3)\n",
            "Requirement already satisfied: zipp>=0.5 in /usr/local/lib/python3.7/dist-packages (from importlib-metadata->humanize>=3.9->twarc) (3.7.0)\n",
            "Requirement already satisfied: typing-extensions>=3.6.4 in /usr/local/lib/python3.7/dist-packages (from importlib-metadata->humanize>=3.9->twarc) (3.10.0.2)\n",
            "Building wheels for collected packages: configobj\n",
            "  Building wheel for configobj (setup.py) ... \u001b[?25l\u001b[?25hdone\n",
            "  Created wheel for configobj: filename=configobj-5.0.6-py3-none-any.whl size=34547 sha256=a696aa98697e3bfac821041e39203ad92892b7ee6435a46a22721bee341a97f3\n",
            "  Stored in directory: /root/.cache/pip/wheels/0d/c4/19/13d74440f2a571841db6b6e0a273694327498884dafb9cf978\n",
            "Successfully built configobj\n",
            "Installing collected packages: configobj, humanize, click-plugins, click-config-file, twarc\n",
            "  Attempting uninstall: humanize\n",
            "    Found existing installation: humanize 0.5.1\n",
            "    Uninstalling humanize-0.5.1:\n",
            "      Successfully uninstalled humanize-0.5.1\n",
            "Successfully installed click-config-file-0.6.0 click-plugins-1.1.1 configobj-5.0.6 humanize-4.0.0 twarc-2.9.4\n",
            "Collecting twarc-csv\n",
            "  Downloading twarc-csv-0.5.1.tar.gz (7.9 kB)\n",
            "Requirement already satisfied: twarc>=2.8.0 in /usr/local/lib/python3.7/dist-packages (from twarc-csv) (2.9.4)\n",
            "Requirement already satisfied: pandas>=1.2.5 in /usr/local/lib/python3.7/dist-packages (from twarc-csv) (1.3.5)\n",
            "Requirement already satisfied: more-itertools>=8.7.0 in /usr/local/lib/python3.7/dist-packages (from twarc-csv) (8.12.0)\n",
            "Requirement already satisfied: tqdm>=4.59.0 in /usr/local/lib/python3.7/dist-packages (from twarc-csv) (4.63.0)\n",
            "Requirement already satisfied: pytz>=2017.3 in /usr/local/lib/python3.7/dist-packages (from pandas>=1.2.5->twarc-csv) (2018.9)\n",
            "Requirement already satisfied: numpy>=1.17.3 in /usr/local/lib/python3.7/dist-packages (from pandas>=1.2.5->twarc-csv) (1.21.5)\n",
            "Requirement already satisfied: python-dateutil>=2.7.3 in /usr/local/lib/python3.7/dist-packages (from pandas>=1.2.5->twarc-csv) (2.8.2)\n",
            "Requirement already satisfied: six>=1.5 in /usr/local/lib/python3.7/dist-packages (from python-dateutil>=2.7.3->pandas>=1.2.5->twarc-csv) (1.15.0)\n",
            "Requirement already satisfied: click-plugins>=1 in /usr/local/lib/python3.7/dist-packages (from twarc>=2.8.0->twarc-csv) (1.1.1)\n",
            "Requirement already satisfied: requests-oauthlib>=1.3 in /usr/local/lib/python3.7/dist-packages (from twarc>=2.8.0->twarc-csv) (1.3.1)\n",
            "Requirement already satisfied: humanize>=3.9 in /usr/local/lib/python3.7/dist-packages (from twarc>=2.8.0->twarc-csv) (4.0.0)\n",
            "Requirement already satisfied: click<9,>=7 in /usr/local/lib/python3.7/dist-packages (from twarc>=2.8.0->twarc-csv) (7.1.2)\n",
            "Requirement already satisfied: click-config-file>=0.6 in /usr/local/lib/python3.7/dist-packages (from twarc>=2.8.0->twarc-csv) (0.6.0)\n",
            "Requirement already satisfied: configobj>=5.0.6 in /usr/local/lib/python3.7/dist-packages (from click-config-file>=0.6->twarc>=2.8.0->twarc-csv) (5.0.6)\n",
            "Requirement already satisfied: importlib-metadata in /usr/local/lib/python3.7/dist-packages (from humanize>=3.9->twarc>=2.8.0->twarc-csv) (4.11.2)\n",
            "Requirement already satisfied: oauthlib>=3.0.0 in /usr/local/lib/python3.7/dist-packages (from requests-oauthlib>=1.3->twarc>=2.8.0->twarc-csv) (3.2.0)\n",
            "Requirement already satisfied: requests>=2.0.0 in /usr/local/lib/python3.7/dist-packages (from requests-oauthlib>=1.3->twarc>=2.8.0->twarc-csv) (2.23.0)\n",
            "Requirement already satisfied: idna<3,>=2.5 in /usr/local/lib/python3.7/dist-packages (from requests>=2.0.0->requests-oauthlib>=1.3->twarc>=2.8.0->twarc-csv) (2.10)\n",
            "Requirement already satisfied: certifi>=2017.4.17 in /usr/local/lib/python3.7/dist-packages (from requests>=2.0.0->requests-oauthlib>=1.3->twarc>=2.8.0->twarc-csv) (2021.10.8)\n",
            "Requirement already satisfied: chardet<4,>=3.0.2 in /usr/local/lib/python3.7/dist-packages (from requests>=2.0.0->requests-oauthlib>=1.3->twarc>=2.8.0->twarc-csv) (3.0.4)\n",
            "Requirement already satisfied: urllib3!=1.25.0,!=1.25.1,<1.26,>=1.21.1 in /usr/local/lib/python3.7/dist-packages (from requests>=2.0.0->requests-oauthlib>=1.3->twarc>=2.8.0->twarc-csv) (1.24.3)\n",
            "Requirement already satisfied: typing-extensions>=3.6.4 in /usr/local/lib/python3.7/dist-packages (from importlib-metadata->humanize>=3.9->twarc>=2.8.0->twarc-csv) (3.10.0.2)\n",
            "Requirement already satisfied: zipp>=0.5 in /usr/local/lib/python3.7/dist-packages (from importlib-metadata->humanize>=3.9->twarc>=2.8.0->twarc-csv) (3.7.0)\n",
            "Building wheels for collected packages: twarc-csv\n",
            "  Building wheel for twarc-csv (setup.py) ... \u001b[?25l\u001b[?25hdone\n",
            "  Created wheel for twarc-csv: filename=twarc_csv-0.5.1-py3-none-any.whl size=9252 sha256=45c89c32b1beeed23c642e0c92ebf6fba9a5477e56f476f212258c7bbc199dc7\n",
            "  Stored in directory: /root/.cache/pip/wheels/73/dc/97/79b383774eb06f882d070b3dfa18fad517c94c358d8a703e61\n",
            "Successfully built twarc-csv\n",
            "Installing collected packages: twarc-csv\n",
            "Successfully installed twarc-csv-0.5.1\n"
          ]
        }
      ]
    },
    {
      "cell_type": "markdown",
      "source": [
        "...then you will have to configure TWARC2 (version 2.0).  \n",
        "Run the cell, then add (manually) the \"Bearer Token\" (you find it in the csv file)  \n",
        "Then just select (n), i.e. no additional authentication methods \n",
        "Finally, please delete the output cell (because in it the BearerToken will be printed)"
      ],
      "metadata": {
        "id": "v14UDk41g7cj"
      }
    },
    {
      "cell_type": "code",
      "source": [
        "!twarc2 configure"
      ],
      "metadata": {
        "id": "RGvJ0sTng6ka"
      },
      "execution_count": null,
      "outputs": []
    },
    {
      "cell_type": "code",
      "source": [
        "!twarc2 search --limit 100 \"Brachigrafia\" results.jsonl"
      ],
      "metadata": {
        "id": "iGIlr4IuhrE_",
        "outputId": "95a3e4ce-6b89-4c85-b640-679fe62f6866",
        "colab": {
          "base_uri": "https://localhost:8080/"
        }
      },
      "execution_count": 11,
      "outputs": [
        {
          "output_type": "stream",
          "name": "stdout",
          "text": [
            "\r  0% 0/604770000 [00:00<?, ?it/s]\r100% 604770000/604770000 [00:00<00:00, 4702438230.10it/s]\r100% 604770000/604770000 [00:00<00:00, 4693380706.62it/s]\n"
          ]
        }
      ]
    },
    {
      "cell_type": "markdown",
      "source": [
        "More info on query arguments: https://twarc-project.readthedocs.io/en/latest/twarc2_en_us/"
      ],
      "metadata": {
        "id": "-8voi2-5jrab"
      }
    },
    {
      "cell_type": "code",
      "source": [
        "# convert the json into csv (friendlier for pandas)\n",
        "\n",
        "!twarc2 csv results.jsonl tweets.csv"
      ],
      "metadata": {
        "id": "ZQaf7Gm-h0oT",
        "outputId": "8079f3ea-746e-4692-f8a2-10bdaa46075b",
        "colab": {
          "base_uri": "https://localhost:8080/"
        }
      },
      "execution_count": 12,
      "outputs": [
        {
          "output_type": "stream",
          "name": "stdout",
          "text": [
            "\r  0% 0.00/263k [00:00<?, ?B/s]\r100% 263k/263k [00:00<00:00, 2.92MB/s]\n",
            "\n",
            "ℹ️\n",
            "Parsed 80 tweets objects from 1 lines in the input file.\n",
            "Wrote 80 rows and output 74 columns in the CSV.\n",
            "\n"
          ]
        }
      ]
    },
    {
      "cell_type": "code",
      "source": [
        "# read the csv and explore it\n",
        "\n",
        "df = pd.read_csv('tweets.csv')\n",
        "df.head()"
      ],
      "metadata": {
        "id": "iRT80h-ciHmH",
        "outputId": "3c4a139d-e6b1-40c0-f3ba-92f22a388d3c",
        "colab": {
          "base_uri": "https://localhost:8080/",
          "height": 491
        }
      },
      "execution_count": 13,
      "outputs": [
        {
          "output_type": "execute_result",
          "data": {
            "text/html": [
              "\n",
              "  <div id=\"df-2f1cf20a-5845-4a9b-a361-7ca4a55204c5\">\n",
              "    <div class=\"colab-df-container\">\n",
              "      <div>\n",
              "<style scoped>\n",
              "    .dataframe tbody tr th:only-of-type {\n",
              "        vertical-align: middle;\n",
              "    }\n",
              "\n",
              "    .dataframe tbody tr th {\n",
              "        vertical-align: top;\n",
              "    }\n",
              "\n",
              "    .dataframe thead th {\n",
              "        text-align: right;\n",
              "    }\n",
              "</style>\n",
              "<table border=\"1\" class=\"dataframe\">\n",
              "  <thead>\n",
              "    <tr style=\"text-align: right;\">\n",
              "      <th></th>\n",
              "      <th>id</th>\n",
              "      <th>conversation_id</th>\n",
              "      <th>referenced_tweets.replied_to.id</th>\n",
              "      <th>referenced_tweets.retweeted.id</th>\n",
              "      <th>referenced_tweets.quoted.id</th>\n",
              "      <th>author_id</th>\n",
              "      <th>in_reply_to_user_id</th>\n",
              "      <th>retweeted_user_id</th>\n",
              "      <th>quoted_user_id</th>\n",
              "      <th>created_at</th>\n",
              "      <th>...</th>\n",
              "      <th>geo.geo.bbox</th>\n",
              "      <th>geo.geo.type</th>\n",
              "      <th>geo.id</th>\n",
              "      <th>geo.name</th>\n",
              "      <th>geo.place_id</th>\n",
              "      <th>geo.place_type</th>\n",
              "      <th>__twarc.retrieved_at</th>\n",
              "      <th>__twarc.url</th>\n",
              "      <th>__twarc.version</th>\n",
              "      <th>Unnamed: 73</th>\n",
              "    </tr>\n",
              "  </thead>\n",
              "  <tbody>\n",
              "    <tr>\n",
              "      <th>0</th>\n",
              "      <td>1499704431041986562</td>\n",
              "      <td>1499696644954148870</td>\n",
              "      <td>1.499702e+18</td>\n",
              "      <td>NaN</td>\n",
              "      <td>NaN</td>\n",
              "      <td>2366758915</td>\n",
              "      <td>100554519.0</td>\n",
              "      <td>NaN</td>\n",
              "      <td>NaN</td>\n",
              "      <td>2022-03-04T11:12:54.000Z</td>\n",
              "      <td>...</td>\n",
              "      <td>NaN</td>\n",
              "      <td>NaN</td>\n",
              "      <td>NaN</td>\n",
              "      <td>NaN</td>\n",
              "      <td>NaN</td>\n",
              "      <td>NaN</td>\n",
              "      <td>2022-03-04T11:31:20+00:00</td>\n",
              "      <td>https://api.twitter.com/2/tweets/search/recent...</td>\n",
              "      <td>2.9.4</td>\n",
              "      <td>NaN</td>\n",
              "    </tr>\n",
              "    <tr>\n",
              "      <th>1</th>\n",
              "      <td>1499697148937527296</td>\n",
              "      <td>1499696644954148870</td>\n",
              "      <td>1.499697e+18</td>\n",
              "      <td>NaN</td>\n",
              "      <td>NaN</td>\n",
              "      <td>8763352</td>\n",
              "      <td>100554519.0</td>\n",
              "      <td>NaN</td>\n",
              "      <td>NaN</td>\n",
              "      <td>2022-03-04T10:43:57.000Z</td>\n",
              "      <td>...</td>\n",
              "      <td>NaN</td>\n",
              "      <td>NaN</td>\n",
              "      <td>NaN</td>\n",
              "      <td>NaN</td>\n",
              "      <td>NaN</td>\n",
              "      <td>NaN</td>\n",
              "      <td>2022-03-04T11:31:20+00:00</td>\n",
              "      <td>https://api.twitter.com/2/tweets/search/recent...</td>\n",
              "      <td>2.9.4</td>\n",
              "      <td>NaN</td>\n",
              "    </tr>\n",
              "    <tr>\n",
              "      <th>2</th>\n",
              "      <td>1499644837787848709</td>\n",
              "      <td>1499644837787848709</td>\n",
              "      <td>NaN</td>\n",
              "      <td>NaN</td>\n",
              "      <td>NaN</td>\n",
              "      <td>37603069</td>\n",
              "      <td>NaN</td>\n",
              "      <td>NaN</td>\n",
              "      <td>NaN</td>\n",
              "      <td>2022-03-04T07:16:06.000Z</td>\n",
              "      <td>...</td>\n",
              "      <td>NaN</td>\n",
              "      <td>NaN</td>\n",
              "      <td>NaN</td>\n",
              "      <td>NaN</td>\n",
              "      <td>NaN</td>\n",
              "      <td>NaN</td>\n",
              "      <td>2022-03-04T11:31:20+00:00</td>\n",
              "      <td>https://api.twitter.com/2/tweets/search/recent...</td>\n",
              "      <td>2.9.4</td>\n",
              "      <td>NaN</td>\n",
              "    </tr>\n",
              "    <tr>\n",
              "      <th>3</th>\n",
              "      <td>1499543689424736257</td>\n",
              "      <td>1499543689424736257</td>\n",
              "      <td>NaN</td>\n",
              "      <td>NaN</td>\n",
              "      <td>NaN</td>\n",
              "      <td>321394308</td>\n",
              "      <td>NaN</td>\n",
              "      <td>NaN</td>\n",
              "      <td>NaN</td>\n",
              "      <td>2022-03-04T00:34:10.000Z</td>\n",
              "      <td>...</td>\n",
              "      <td>NaN</td>\n",
              "      <td>NaN</td>\n",
              "      <td>NaN</td>\n",
              "      <td>NaN</td>\n",
              "      <td>NaN</td>\n",
              "      <td>NaN</td>\n",
              "      <td>2022-03-04T11:31:20+00:00</td>\n",
              "      <td>https://api.twitter.com/2/tweets/search/recent...</td>\n",
              "      <td>2.9.4</td>\n",
              "      <td>NaN</td>\n",
              "    </tr>\n",
              "    <tr>\n",
              "      <th>4</th>\n",
              "      <td>1499481173994745857</td>\n",
              "      <td>1499481173994745857</td>\n",
              "      <td>NaN</td>\n",
              "      <td>1.178032e+18</td>\n",
              "      <td>NaN</td>\n",
              "      <td>186194260</td>\n",
              "      <td>NaN</td>\n",
              "      <td>2.388791e+09</td>\n",
              "      <td>NaN</td>\n",
              "      <td>2022-03-03T20:25:45.000Z</td>\n",
              "      <td>...</td>\n",
              "      <td>NaN</td>\n",
              "      <td>NaN</td>\n",
              "      <td>NaN</td>\n",
              "      <td>NaN</td>\n",
              "      <td>NaN</td>\n",
              "      <td>NaN</td>\n",
              "      <td>2022-03-04T11:31:20+00:00</td>\n",
              "      <td>https://api.twitter.com/2/tweets/search/recent...</td>\n",
              "      <td>2.9.4</td>\n",
              "      <td>NaN</td>\n",
              "    </tr>\n",
              "  </tbody>\n",
              "</table>\n",
              "<p>5 rows × 74 columns</p>\n",
              "</div>\n",
              "      <button class=\"colab-df-convert\" onclick=\"convertToInteractive('df-2f1cf20a-5845-4a9b-a361-7ca4a55204c5')\"\n",
              "              title=\"Convert this dataframe to an interactive table.\"\n",
              "              style=\"display:none;\">\n",
              "        \n",
              "  <svg xmlns=\"http://www.w3.org/2000/svg\" height=\"24px\"viewBox=\"0 0 24 24\"\n",
              "       width=\"24px\">\n",
              "    <path d=\"M0 0h24v24H0V0z\" fill=\"none\"/>\n",
              "    <path d=\"M18.56 5.44l.94 2.06.94-2.06 2.06-.94-2.06-.94-.94-2.06-.94 2.06-2.06.94zm-11 1L8.5 8.5l.94-2.06 2.06-.94-2.06-.94L8.5 2.5l-.94 2.06-2.06.94zm10 10l.94 2.06.94-2.06 2.06-.94-2.06-.94-.94-2.06-.94 2.06-2.06.94z\"/><path d=\"M17.41 7.96l-1.37-1.37c-.4-.4-.92-.59-1.43-.59-.52 0-1.04.2-1.43.59L10.3 9.45l-7.72 7.72c-.78.78-.78 2.05 0 2.83L4 21.41c.39.39.9.59 1.41.59.51 0 1.02-.2 1.41-.59l7.78-7.78 2.81-2.81c.8-.78.8-2.07 0-2.86zM5.41 20L4 18.59l7.72-7.72 1.47 1.35L5.41 20z\"/>\n",
              "  </svg>\n",
              "      </button>\n",
              "      \n",
              "  <style>\n",
              "    .colab-df-container {\n",
              "      display:flex;\n",
              "      flex-wrap:wrap;\n",
              "      gap: 12px;\n",
              "    }\n",
              "\n",
              "    .colab-df-convert {\n",
              "      background-color: #E8F0FE;\n",
              "      border: none;\n",
              "      border-radius: 50%;\n",
              "      cursor: pointer;\n",
              "      display: none;\n",
              "      fill: #1967D2;\n",
              "      height: 32px;\n",
              "      padding: 0 0 0 0;\n",
              "      width: 32px;\n",
              "    }\n",
              "\n",
              "    .colab-df-convert:hover {\n",
              "      background-color: #E2EBFA;\n",
              "      box-shadow: 0px 1px 2px rgba(60, 64, 67, 0.3), 0px 1px 3px 1px rgba(60, 64, 67, 0.15);\n",
              "      fill: #174EA6;\n",
              "    }\n",
              "\n",
              "    [theme=dark] .colab-df-convert {\n",
              "      background-color: #3B4455;\n",
              "      fill: #D2E3FC;\n",
              "    }\n",
              "\n",
              "    [theme=dark] .colab-df-convert:hover {\n",
              "      background-color: #434B5C;\n",
              "      box-shadow: 0px 1px 3px 1px rgba(0, 0, 0, 0.15);\n",
              "      filter: drop-shadow(0px 1px 2px rgba(0, 0, 0, 0.3));\n",
              "      fill: #FFFFFF;\n",
              "    }\n",
              "  </style>\n",
              "\n",
              "      <script>\n",
              "        const buttonEl =\n",
              "          document.querySelector('#df-2f1cf20a-5845-4a9b-a361-7ca4a55204c5 button.colab-df-convert');\n",
              "        buttonEl.style.display =\n",
              "          google.colab.kernel.accessAllowed ? 'block' : 'none';\n",
              "\n",
              "        async function convertToInteractive(key) {\n",
              "          const element = document.querySelector('#df-2f1cf20a-5845-4a9b-a361-7ca4a55204c5');\n",
              "          const dataTable =\n",
              "            await google.colab.kernel.invokeFunction('convertToInteractive',\n",
              "                                                     [key], {});\n",
              "          if (!dataTable) return;\n",
              "\n",
              "          const docLinkHtml = 'Like what you see? Visit the ' +\n",
              "            '<a target=\"_blank\" href=https://colab.research.google.com/notebooks/data_table.ipynb>data table notebook</a>'\n",
              "            + ' to learn more about interactive tables.';\n",
              "          element.innerHTML = '';\n",
              "          dataTable['output_type'] = 'display_data';\n",
              "          await google.colab.output.renderOutput(dataTable, element);\n",
              "          const docLink = document.createElement('div');\n",
              "          docLink.innerHTML = docLinkHtml;\n",
              "          element.appendChild(docLink);\n",
              "        }\n",
              "      </script>\n",
              "    </div>\n",
              "  </div>\n",
              "  "
            ],
            "text/plain": [
              "                    id      conversation_id  referenced_tweets.replied_to.id  \\\n",
              "0  1499704431041986562  1499696644954148870                     1.499702e+18   \n",
              "1  1499697148937527296  1499696644954148870                     1.499697e+18   \n",
              "2  1499644837787848709  1499644837787848709                              NaN   \n",
              "3  1499543689424736257  1499543689424736257                              NaN   \n",
              "4  1499481173994745857  1499481173994745857                              NaN   \n",
              "\n",
              "   referenced_tweets.retweeted.id  referenced_tweets.quoted.id   author_id  \\\n",
              "0                             NaN                          NaN  2366758915   \n",
              "1                             NaN                          NaN     8763352   \n",
              "2                             NaN                          NaN    37603069   \n",
              "3                             NaN                          NaN   321394308   \n",
              "4                    1.178032e+18                          NaN   186194260   \n",
              "\n",
              "   in_reply_to_user_id  retweeted_user_id  quoted_user_id  \\\n",
              "0          100554519.0                NaN             NaN   \n",
              "1          100554519.0                NaN             NaN   \n",
              "2                  NaN                NaN             NaN   \n",
              "3                  NaN                NaN             NaN   \n",
              "4                  NaN       2.388791e+09             NaN   \n",
              "\n",
              "                 created_at  ... geo.geo.bbox geo.geo.type geo.id  geo.name  \\\n",
              "0  2022-03-04T11:12:54.000Z  ...          NaN          NaN    NaN       NaN   \n",
              "1  2022-03-04T10:43:57.000Z  ...          NaN          NaN    NaN       NaN   \n",
              "2  2022-03-04T07:16:06.000Z  ...          NaN          NaN    NaN       NaN   \n",
              "3  2022-03-04T00:34:10.000Z  ...          NaN          NaN    NaN       NaN   \n",
              "4  2022-03-03T20:25:45.000Z  ...          NaN          NaN    NaN       NaN   \n",
              "\n",
              "   geo.place_id  geo.place_type       __twarc.retrieved_at  \\\n",
              "0           NaN             NaN  2022-03-04T11:31:20+00:00   \n",
              "1           NaN             NaN  2022-03-04T11:31:20+00:00   \n",
              "2           NaN             NaN  2022-03-04T11:31:20+00:00   \n",
              "3           NaN             NaN  2022-03-04T11:31:20+00:00   \n",
              "4           NaN             NaN  2022-03-04T11:31:20+00:00   \n",
              "\n",
              "                                         __twarc.url  __twarc.version  \\\n",
              "0  https://api.twitter.com/2/tweets/search/recent...            2.9.4   \n",
              "1  https://api.twitter.com/2/tweets/search/recent...            2.9.4   \n",
              "2  https://api.twitter.com/2/tweets/search/recent...            2.9.4   \n",
              "3  https://api.twitter.com/2/tweets/search/recent...            2.9.4   \n",
              "4  https://api.twitter.com/2/tweets/search/recent...            2.9.4   \n",
              "\n",
              "   Unnamed: 73  \n",
              "0          NaN  \n",
              "1          NaN  \n",
              "2          NaN  \n",
              "3          NaN  \n",
              "4          NaN  \n",
              "\n",
              "[5 rows x 74 columns]"
            ]
          },
          "metadata": {},
          "execution_count": 13
        }
      ]
    },
    {
      "cell_type": "code",
      "source": [
        "for item in df.text:\n",
        "  print(item)"
      ],
      "metadata": {
        "id": "0Rn7VOMsiNZD",
        "outputId": "b97c3dec-ba9c-4b5c-f9e7-ce7928023978",
        "colab": {
          "base_uri": "https://localhost:8080/"
        }
      },
      "execution_count": 14,
      "outputs": [
        {
          "output_type": "stream",
          "name": "stdout",
          "text": [
            "@_happycactus_ @pieghe @stramargio Erano soprattutto i \"five eyes\" (- Canada +Giappone)\\nhttps://t.co/47XIAQU6ba\n",
            "@_happycactus_ E molti in Europa vorrebbero proibire la crittografia\n",
            "Quando vola merda gli Stati si affrettano a rifugiarsi in un sasso giallo che hanno accumulato nei loro depositi, che è comunque meglio della carta straccia che vi spacciano.\\n\\nPensa quando scopriranno che matematica e crittografia sono ancora meglio dei sassi gialli.\n",
            "quando parlavo di crittografia quantistica 20 anni fa ero considerato un folle #futuro #sicurezzadelleinformazioni #qubit https://t.co/kINddUeBPT\n",
            "Con la crittografia quantistica tutte le crittografie di oggi sarebbero nulle. L’intervento di Valerio Pastore, fondatore e Chief technology officer di BooleBox\\n\\nhttps://t.co/5aKNPIMg28\n",
            "È riuscito il primo test italiano di crittografia quantistica https://t.co/FdSwAJg8f5\n",
            "È riuscito il primo test italiano di crittografia quantistica https://t.co/FdSwAJg8f5\n",
            "Crittografia quantistica: come funziona e perché è necessaria oggi https://t.co/lR062kLG9V https://t.co/mXfjhUajrz\n",
            "@Sergio_GS La conosco meglio di te la storia dei cypherpunk:\\n\\n1- sono tendenzialmente di ideologia anarcocap, ovvero liberisti come l'NSA, perché in USA stan messi così.\\n\\n2- dove vede i documenti della prima metà anni '90 in cui questi geni della crittografia - meno dell'economia - si\n",
            "@sonoclaudio @quinta @GregorioSamueli @romanopaolo @BiondoNik @informapirata @kaspersky @KasperskyLabIT @nuke86 @securityaffairs @marcogovoni @Valerio_Berra @liviovarriale @michele_pinassi @MaxU_reloaded @HermesCenter @vittoriobertola Bon, dal 1999 al 2013 mi sono occupato professionalmente solo di sicurezza, creando anche 2 startup e producendo software usati in contesti di sicurezza nazionale. Poi solo di crittografia e anonimato fino al 2016. Capisco il threat modelli che fai, ma è limitatamente tecnico.\n",
            "@IlariaBifarini Usate bitcoin da domani. Anzi da oggi. Anzi, non si capisce perché non lo usiate già da anni. L'unico sistema veramente libero ci arriva dalla crittografia, è matematica e scienza applicata, funziona alla perfezione ma non piace ai controllori perché è libero, easy.\n",
            "@IlariaBifarini Usate bitcoin da domani. Anzi da oggi. Anzi, non si capisce perché non lo usiate già da anni. L'unico sistema veramente libero ci arriva dalla crittografia, è matematica e scienza applicata, funziona alla perfezione ma non piace ai controllori perché è libero, easy.\n",
            "@comealidicarta Scusami ma ho un problema di crittografia. E quindi non avevo capito la tua risposta. 🤗\n",
            "@IlariaBifarini Usate bitcoin da domani. Anzi da oggi. Anzi, non si capisce perché non lo usiate già da anni. L'unico sistema veramente libero ci arriva dalla crittografia, è matematica e scienza applicata, funziona alla perfezione ma non piace ai controllori perché è libero, easy.\n",
            "#NFTcosaSono #NFT #TrendDiTendenza #NonFungibleToken #Blockchain #catenadiblocchi #criptovalute #crittografia \\nhttps://t.co/xUTtZF9rmW\n",
            "Ci sono diverse regole d’oro da seguire per proteggere i dati su smartphone, tipo:\\n\\n✅ Blocca sempre lo schermo con PIN, Face ID o Touch ID\\n✅ Usa la Crittografia\\n✅ Scarica sempre gli agggiornamenti\\n✅ Usa le feature di Controllo Privacy\\n\\nE molto altro:\\n\\nhttps://t.co/pq1cJ4F6FR\n",
            "Ho fatto due ore stamani di crittografia e ora dovrei studiare un pochetto PPD prima del corso di inglese... Ma sono k.o.\n",
            "I residenti in Russia e Ucraina potranno usufruire della crittografia end-to-end anche per le loro conversazioni su Instagram. Nel frattempo Apple blocca le vendite di dispositivi e servizi\\n https://t.co/mXxzH4yjRc\n",
            "I residenti in Russia e Ucraina potranno usufruire della crittografia end-to-end anche per le loro conversazioni su Instagram. Nel frattempo Apple blocca le vendite di dispositivi e servizi\\n https://t.co/mXxzH4yjRc\n",
            "I residenti in Russia e Ucraina potranno usufruire della crittografia end-to-end anche per le loro conversazioni su Instagram. Nel frattempo Apple blocca le vendite di dispositivi e servizi\\n https://t.co/mXxzH4yjRc\n",
            "Voto elettronico (e segreto): non c'e' crittografia che tenga, non funziona! https://t.co/KFGhT8gbr5\n",
            "#Telegram, principale rivale dell’app di messaggistica istantanea #WhatsApp non tutela la #privacy degli utenti. \\n\\nLa #crittografia delle chat e la gestione dei dati personali presentano infatti alcune criticità.\\n\\n#privacy #sicurezzainformatica #sicurezza\\nhttps://t.co/6u2cUizaIx\n",
            "Pensa nel 2022 proteggere il proprio patrimonio con dei pezzi di metallo contenuti in scatolette di plastica invece che con i sistemi di crittografia più avanzati al mondo https://t.co/CKdmPz7AlU\n",
            "Pensa nel 2022 proteggere il proprio patrimonio con dei pezzi di metallo contenuti in scatolette di plastica invece che con i sistemi di crittografia più avanzati al mondo https://t.co/CKdmPz7AlU\n",
            "Australia: doccia fredda per i corifei del #VotoElettronico!\\nLa Commissione elettorale pensava che il sistema di voto elettronico dell'ACT sarebbe stato sicuro fintanto che la sua chiave di crittografia fosse rimasta privata, ma non è così...\\nhttps://t.co/Ec7kloMVuN\n",
            "Australia: doccia fredda per i corifei del #VotoElettronico!\\nLa Commissione elettorale pensava che il sistema di voto elettronico dell'ACT sarebbe stato sicuro fintanto che la sua chiave di crittografia fosse rimasta privata, ma non è così...\\nhttps://t.co/Ec7kloMVuN\n",
            "L'introduzione della crittografia per i direct di #Instagram aiuterà i cittadini ucraini (ma anche i russi, per favorire gli attivisti per la pace) a comunicare in maniera protetta\\n#RussiaUkraineConflict \\nhttps://t.co/DAW2c29mt3\n",
            "@Irolav77 @BagnoliMD Sono protetti dal sistema biometrico di identificazione sulla base del quale si basa la crittografia stessa. Non è questione di bug. Senza la chiave non si leggono. Poi io te l’ho detto, scelta tua\n",
            "@noritren @lucacozzuto Conosco chi lavora sulla crittografia di BTC  fidati nn è stupido\n",
            "Thread che illustra con prove a sostegno, che le forze armate russe in Ukraine comunicano senza sistemi di crittografia e parlano di perdite, feriti, mancanza di carburante, mancanza di orientamento, piani di colpire edifici civili e molto altro. https://t.co/sXnKq4CTci\n",
            "il bitcoin, la prima crypto-moneta è nato dall’idea di uno sconosciuto giapponese. Nel 2008, Satoshi Nakamoto, inventore la cui identità è ancora sconosciuta, presentò su una mailing list di esperti di crittografia il progetto della prima criptovaluta: il bitcoin\n",
            "Le criptovalute sono strumenti che, basandosi sui principi della crittografia, permettono ad una rete di persone che non si conoscono tra loro di generare moneta e farla circolare, IN ASSENZA di un’autorità centrale che ne convalidi le transazioni.\n",
            "E mentre noi discutiamo ogni giorno di crittografia EC e post quantum, possiamo ascoltare cosa si dicono gli eserciti in guerra con una web sdr… comunque la si prenda, fa pensare https://t.co/y00p1KdZ66\n",
            "Manifesto per la libertà dell’arte e del pensiero attraverso l’informatica e la crittografia. In allegato trovate l’opera #FCKNFTHEX su #Bitcoin. https://t.co/0HiuZBNKc4\n",
            "#ProteggersiDagliAttacchiInformaticiConVPN #ProteggersiDagliAttacchiConVPN #VPN #VirtualPrivateNetwork #Crittografia #AttacchiInformatici #cybersecurity \\nhttps://t.co/d3DHgR5jtP\n",
            "La privacy nella comunicazione a mezzo email: dovremmo utilizzare la crittografia by default | Note di NicFab | Le nostre considerazioni sull'utilizzo della crittografia nello scambio di email -  https://t.co/SOk2GuYOeV #email #encryption #privacy @mailmateapp @gnupg @openpgp\n",
            "@___override___ @Sergio_GS Per curiosità, ha letto gli articoli linkati sopra?\\n\\nSe sì, ha un riscontro da dare? Critiche miglioramenti?\\n\\nVorrei integrare il tema in modo più approfondito dell'identità digitale e dell'integrazione fisico-biologica col virtuale tramite la crittografia.\n",
            "@scramentu @sregolatore Una valuta inconfiscabile, immutabile e decentralizzata basata sulla crittografia? Non penserai mica che il valore che ha sia a casaccio, quello che sta succedendo non farà altro che rafforzare il suo valore intrinseco https://t.co/06mp2FiGQ3\n",
            "@ge_aldrig_upp molto peggio quella degli NFT, il mio professore di crittografia ci ha subito messo in guardia aha\n",
            "La privacy nella comunicazione a mezzo email: dovremmo utilizzare la crittografia by default | Note di NicFab | Le nostre considerazioni sull'utilizzo della crittografia nello scambio di email -  https://t.co/SOk2GuYOeV #email #encryption #privacy @mailmateapp @gnupg @openpgp\n",
            "Tutto sulla crittografia nell’IoT, dalle basi https://t.co/RJBOeFzoc8 https://t.co/BCIGdeGjfO\n",
            "#Crittografia: una #storia lunga millenni\\n\\n👉 https://t.co/UZE9HrNCVU\\n\\nQuali tendenze per il futuro della #Cybersecurity?\\n\\nUna lezione introduttiva col Prof. Silvio Ranise, direttore del centro di #ricerca sulla Cybersecurity della @FBK_research\\n\\n@UniTrento #privacy #INFORMATICA https://t.co/M7FJShKNis\n",
            "Se la privacy è fuorilegge, solo i fuorilegge avranno la privacy\\n\\n#redhotcyber #informationsecurity #ethicalhacking #dataprotection #hacking #cybersecurity #cybercrime #cybersecurityawareness #cybersecuritynews #privacy #infosecurity\\n\\nhttps://t.co/3Rzspw7mW8\n",
            "@abnyn1 @elonmusk @FedorovMykhailo No, starlink è satellitare a fascio stretto, quindi comunica solo con i satelitti e c'è la crittografia. non è intercettabile\n",
            "La #Cina esplorerà la #blockchain per migliorare la sicurezza dei certificati elettronici. Secondo le linee guida pubblicate dall'Ufficio Generale del Consiglio di Stato, #crittografia, #privacy computing e altre tecnologie saranno al centro delle sperimentazioni @ChainDDGlobal\n",
            "Gli utenti di @Wirexapp, utilizzando una carta di debito abilitata alla crittografia, adesso possono spendere $AVAX e altre 60 valute crittografiche e tradizionali sulla piattaforma Wirex, che è accettata in 61 milioni di posti in tutto il mondo.\\n\\n➡️https://t.co/871a92AhE8 https://t.co/Nc5Tpzf97b\n",
            "Gli utenti di @Wirexapp, utilizzando una carta di debito abilitata alla crittografia, adesso possono spendere $AVAX e altre 60 valute crittografiche e tradizionali sulla piattaforma Wirex, che è accettata in 61 milioni di posti in tutto il mondo.\\n\\n➡️https://t.co/871a92AhE8 https://t.co/Nc5Tpzf97b\n",
            "Gli utenti di @Wirexapp, utilizzando una carta di debito abilitata alla crittografia, adesso possono spendere $AVAX e altre 60 valute crittografiche e tradizionali sulla piattaforma Wirex, che è accettata in 61 milioni di posti in tutto il mondo.\\n\\n➡️https://t.co/871a92AhE8 https://t.co/Nc5Tpzf97b\n",
            "Gli utenti di @Wirexapp, utilizzando una carta di debito abilitata alla crittografia, adesso possono spendere $AVAX e altre 60 valute crittografiche e tradizionali sulla piattaforma Wirex, che è accettata in 61 milioni di posti in tutto il mondo.\\n\\n➡️https://t.co/871a92AhE8 https://t.co/Nc5Tpzf97b\n",
            "Gli utenti di @Wirexapp, utilizzando una carta di debito abilitata alla crittografia, adesso possono spendere $AVAX e altre 60 valute crittografiche e tradizionali sulla piattaforma Wirex, che è accettata in 61 milioni di posti in tutto il mondo.\\n\\n➡️https://t.co/871a92AhE8 https://t.co/Nc5Tpzf97b\n",
            "“Falla nella crittografia” WhatsApp: cosa fare se incappi in questo messaggio https://t.co/Iwte5Nrup9\n",
            "4| Ma i computer #quantistici su cui si sta lavorando rappresentano un pericolo perché sarebbero in grado di cracchare gli attuali #algoritmi di #crittografia in modo esponenzialmente più veloce di quanto possano fare anche le migliori macchine non quantistiche. https://t.co/8MKWnq2UXX\n",
            "4| Ma i computer #quantistici su cui si sta lavorando rappresentano un pericolo perché sarebbero in grado di cracchare gli attuali #algoritmi di #crittografia in modo esponenzialmente più veloce di quanto possano fare anche le migliori macchine non quantistiche. https://t.co/8MKWnq2UXX\n",
            "Crittografia e privacy https://t.co/lXlbHBRRHm\n",
            "#Crittografia: una #storia lunga millenni\\n\\n👉 https://t.co/UZE9HrNCVU\\n\\nQuali tendenze per il futuro della #Cybersecurity?\\n\\nUna lezione introduttiva col Prof. Silvio Ranise, direttore del centro di #ricerca sulla Cybersecurity della @FBK_research\\n\\n@UniTrento #privacy #INFORMATICA https://t.co/M7FJShKNis\n",
            "#Crittografia: una #storia lunga millenni\\n\\n👉 https://t.co/UZE9HrNCVU\\n\\nQuali tendenze per il futuro della #Cybersecurity?\\n\\nUna lezione introduttiva col Prof. Silvio Ranise, direttore del centro di #ricerca sulla Cybersecurity della @FBK_research\\n\\n@UniTrento #privacy #INFORMATICA https://t.co/M7FJShKNis\n",
            "@SofiaSZM @H4ckManac @myWickr Anche @Saiber_Man (conosci?) mi ha dato positive valutazioni sulla sicurezza di @myWickr, se lo dice lui la possiamo considerare tra le più sicure, per le tecniche di crittografia che impiega. Ma troppi pochi la usano, quindi… stiamo su @signalapp\n",
            "La carta, il chip e il protocollo di crittografia sono 100% Russi, un sistema che consente di superare la disconnessione dai circuiti internazionali Visa e Mastercard garantendo la continuità di tutte le operazioni sul territorio della Federazione Russa, compresa la Crimea.\n",
            "Su Gmail le mail non sono criptate. Sono quindi potenzialmente analizzabili e tracciabili. Meglio cercare delle alternative a Gmail, ecco le nostre proposte\\n #alternative #appleiphone #crittografia #disroot #email #gmail #google #opensource #posta\\n\\nhttps://t.co/hDRY5FuI8e\n",
            "Su Gmail le mail non sono criptate. Sono quindi potenzialmente analizzabili e tracciabili. Meglio cercare delle alternative a Gmail, ecco le nostre proposte\\n #alternative #appleiphone #crittografia #disroot #email #gmail #google #opensource #posta\\n\\nhttps://t.co/hDRY5FuI8e\n",
            "La carta, il chip e il protocollo di crittografia sono 100% Russi, un sistema che consente di superare la disconnessione dai circuiti internazionali Visa e Mastercard garantendo la continuità di tutte le operazioni sul territorio della Federazione Russa, compresa la Crimea.\n",
            "@andt0n @quinta telegram è fuori dalla Russia proprio per non doverne subire la censura e il controllo. I suoi server sono praticamente tutti in Europa e il suo protocollo di comunicazione adotta la crittografia end-to-end da molto prima che WhatsApp utilizzasse il tls\n",
            "@redazioneiene Non ho trovato il Twitter account di quello stronzo di Eleazaro di merda. Vorrei rivolgermoi a lui. Non trovi qualcuno che ti spieghi davvero come funziona #Bitcoin? Forza bello, sai che cazzo è la crittografia asimmetrica? Sai come funziona il peer2peer, idiota? E l'opensource?\n",
            "Crittografia end-to-end, la politica ha dichiarato guerra | Wired Italia \\nhttps://t.co/c30PIXjvj2\n",
            "@federico_rivi Conoscenza pari a zero . Ma come è per la maggior parte . Io compreso. Stiamo parlando di qualcosa che sta all’incrocio di teorie monetaria, teoria dei giochi e crittografia informatica e mettiamoci anche psicologia comportamentale ))….studiare 🤷‍♂️is the Way\n",
            "@Nmarru @rosadineve @Nozucchero A differenza delle valute nazionali il Bitcoin non fa uso di un ente centrale il valore si basa su domanda e offerta e usa un database distribuito in rete per tracciare le transazioni e usa la crittografia per la generazione di nuova moneta e l'attribuzione della proprietà\n",
            "@SMaurizi: @wikileaks ha rivoluzionato il giornalismo 1) per l'uso della crittografia come metodo per la protezione delle fonti, 2) perché si sono opposti alle richieste da parte di alcune delle agenzie più potenti del mondo di rimuovere le loro pubblicazioni. https://t.co/Royb05uT3c\n",
            "@SMaurizi: @wikileaks ha rivoluzionato il giornalismo 1) per l'uso della crittografia come metodo per la protezione delle fonti, 2) perché si sono opposti alle richieste da parte di alcune delle agenzie più potenti del mondo di rimuovere le loro pubblicazioni. https://t.co/Royb05uT3c\n",
            "Obiettivi di domani: \\n- finire pdf iot \\n- fare pdf crittografia lezione di oggi aka venerdì \\n- finire pdf sistemi operativi \\nChissà se ce la farò mai\n",
            "Come direbbe @VittorioSgarbi: Capre, capre, capre, capre, studiate! Capre, capre, capre!\\n\\nhttps://t.co/T6GxiEIwjX\\n\\nhttps://t.co/vBgNNrI8hG\\n\\nhttps://t.co/pxvrxujYJ8\\n\\nhttps://t.co/cjgP09QZke\\n\\nhttps://t.co/GkuKenIRxj\\n\\nper il reso usate Google, capre! https://t.co/4CmLWwF954\n",
            "@Si_Sono_Ludo @redazioneiene Mi chiedo come si possa pretendere, da questi Signori, di diffondere la giusta informazione tecnologica quando probabilmente  non hanno la minima idea di concetti come crittografia simmetrica, asimmetrica, lattice e via discorrendo. Siamo in Italia amici, probabilmente si 1/..\n",
            "Chiavette USB e hard disk portatili sono ormai diffusissimi: essendo però molto facili da perdere, è sempre opportuno proteggerli con password, così che - in caso di smarrimento o sottrazione - il contenuto non venga manipolato da estranei...\\n\\n#veracrypt\\n\\nhttps://t.co/IfvORFP3k5\n",
            "Crittografia: come funziona e come sfruttarla per la sicurezza informatica di https://t.co/SI3YNNuPpW\\nhttps://t.co/g0BzKIpJsw\\n#strumenti #privacy #sicurezza #crittografia #furti #estorsioni #sicurezzainformatica #applicazioni #protezione #cybercrime #cybersecurity #cyberattack\n",
            "Crittografia: come funziona e come sfruttarla per la sicurezza informatica di https://t.co/SI3YNNuPpW\\nhttps://t.co/g0BzKIpJsw\\n#strumenti #privacy #sicurezza #crittografia #furti #estorsioni #sicurezzainformatica #applicazioni #protezione #cybercrime #cybersecurity #cyberattack\n",
            "Crittografia: come funziona e come sfruttarla per la sicurezza informatica di https://t.co/SI3YNNuPpW\\nhttps://t.co/g0BzKIpJsw\\n#strumenti #privacy #sicurezza #crittografia #furti #estorsioni #sicurezzainformatica #applicazioni #protezione #cybercrime #cybersecurity #cyberattack\n",
            "Crittografia: come funziona e come sfruttarla per la sicurezza informatica di https://t.co/SI3YNNuPpW\\nhttps://t.co/g0BzKIpJsw\\n#strumenti #privacy #sicurezza #crittografia #furti #estorsioni #sicurezzainformatica #applicazioni #protezione #cybercrime #cybersecurity #cyberattack\n",
            "@Gladiatorsf1 @_allthatglitz L'energia rigenerativa dell'MGU-H Honda risultava significativamente più bassa dopo le TD (sensori di monitoraggio e crittografia) emessi prima dell'apertura del 2020.\\nCiò era dovuto alla ridotta efficacia della rigenerazione parziale di Honda.\n",
            "Su Gmail le mail non sono criptate. Sono quindi potenzialmente analizzabili e tracciabili. Meglio cercare delle alternative a Gmail, ecco le nostre proposte\\n #alternative #appleiphone #crittografia #disroot #email #gmail #google #opensource #posta\\n\\nhttps://t.co/hDRY5FuI8e\n",
            "#Blockchain 𝗰𝗼𝗿𝘀𝗶 𝗰𝗼𝗻𝗳𝗲𝗿𝗺𝗮𝘁𝗶 Promo 20%\\n𝗕𝗹𝗼𝗰𝗸𝗰𝗵𝗮𝗶𝗻 𝗔𝗿𝗰𝗵𝗶𝘁𝗲𝗰𝘁𝘂𝗿𝗲 📅 8-3/3 \\n👉 https://t.co/wvBYyL9HMT \\n𝗕𝗹𝗼𝗰𝗸𝗰𝗵𝗮𝗶𝗻 𝗗𝗲𝗰𝗲𝗻𝘁𝗿𝗮𝗹𝗶𝘇𝗲𝗱 𝗙𝗶𝗻𝗮𝗻𝗰𝗲 📅  21-22/3 \\n👉 https://t.co/QaN9O4fHim \\n#crittografia #DeFi #Cryptocurrency https://t.co/JBKH0zOtpD\n",
            "Su Gmail le mail non sono criptate. Sono quindi potenzialmente analizzabili e tracciabili. Meglio cercare delle alternative a Gmail, ecco le nostre proposte\\n #alternative #appleiphone #crittografia #disroot #email #gmail #google #opensource #posta\\n\\nhttps://t.co/hDRY5FuI8e\n"
          ]
        }
      ]
    },
    {
      "cell_type": "code",
      "source": [
        "for item in df.lang:\n",
        "  print(item)"
      ],
      "metadata": {
        "id": "IcDCkvCsiRd9"
      },
      "execution_count": null,
      "outputs": []
    }
  ]
}